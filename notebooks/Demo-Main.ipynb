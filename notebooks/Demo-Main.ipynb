{
 "cells": [
  {
   "cell_type": "code",
   "execution_count": null,
   "id": "5863a969",
   "metadata": {},
   "outputs": [],
   "source": [
    "from os import environ\n",
    "\n",
    "import neptune\n",
    "\n",
    "from core_analysis.utils.constants import NEPTUNE_PROJECT, NEPTUNE_API_TOKEN\n",
    "\n",
    "environ[\"NEPTUNE_PROJECT\"] = NEPTUNE_PROJECT\n",
    "environ[\"NEPTUNE_API_TOKEN\"] = NEPTUNE_API_TOKEN\n",
    "\n",
    "run = neptune.init_run(name=\"Test HIPIE\")"
   ]
  },
  {
   "cell_type": "code",
   "execution_count": null,
   "id": "21d6141a",
   "metadata": {},
   "outputs": [],
   "source": [
    "import os\n",
    "\n",
    "import torch\n",
    "from PIL import Image\n",
    "from matplotlib import pyplot as plt\n",
    "\n",
    "from detectron2.utils.visualizer import Visualizer\n",
    "from projects.HIPIE.demo_lib.part_segm_demo import PartSegmDemo\n",
    "from detectron2.data.detection_utils import convert_PIL_to_numpy"
   ]
  },
  {
   "cell_type": "code",
   "execution_count": null,
   "id": "91afa44c",
   "metadata": {},
   "outputs": [],
   "source": [
    "run[\"checkpoint\"] = ckpt = \"weights/vit_h_cloud.pth\"\n",
    "img_path = R\"C:\\Users\\Travail\\Desktop\\Postdoctorat\\Erwan\\core-analysis\\images\\OS-13-217\\OS-13-217 Bx 61-63 230.05-241.71m.JPG\"\n",
    "# img_path = R\"C:\\Users\\Travail\\Desktop\\Postdoctorat\\Erwan\\dorchester.jpg\"\n",
    "run[\"image_path\"] = img_path\n",
    "run[\"use_default_labels\"] = use_default_labels = False\n",
    "run[\"instance_thres\"] = instance_thres = 0.2"
   ]
  },
  {
   "cell_type": "markdown",
   "id": "85738d70",
   "metadata": {},
   "source": [
    "# Load Models"
   ]
  },
  {
   "cell_type": "code",
   "execution_count": null,
   "id": "cdfaa515",
   "metadata": {},
   "outputs": [],
   "source": [
    "current_folder = globals()[\"_dh\"][0]\n",
    "print(current_folder)\n",
    "\n",
    "os.chdir(os.path.join(current_folder, \"..\"))\n",
    "\n",
    "config_file = \"projects/HIPIE/configs/image_joint_vit_huge_32g_pan_maskdino_parts.yaml\"\n",
    "\n",
    "uninext_demo = PartSegmDemo(config_file=config_file, weight=ckpt, device=\"cuda\")\n",
    "uninext_demo.demo.predictor.model.device = \"cuda\""
   ]
  },
  {
   "cell_type": "markdown",
   "id": "33f220fb",
   "metadata": {},
   "source": [
    "# Set up an image"
   ]
  },
  {
   "cell_type": "code",
   "execution_count": null,
   "id": "61a0e5ce",
   "metadata": {},
   "outputs": [],
   "source": [
    "# url = 'https://raw.githubusercontent.com/CompVis/latent-diffusion/main/data/inpainting_examples/overture-creations-5sI6fQgYIuo.png'\n",
    "# url = 'https://upload.wikimedia.org/wikipedia/commons/thumb/e/ec/Mona_Lisa%2C_by_Leonardo_da_Vinci%2C_from_C2RMF_retouched.jpg/405px-Mona_Lisa%2C_by_Leonardo_da_Vinci%2C_from_C2RMF_retouched.jpg'\n",
    "# url = 'https://encrypted-tbn0.gstatic.com/licensed-image?q=tbn:ANd9GcSh82Dm7OEK7SU7Rnv3Fa-9bi6BZrMM0NJvtm94eGajmxl7mObM7Jp9h3z5UfxaY5IsXGBoB9IX1QMVMlE'\n",
    "# url = 'https://hips.hearstapps.com/hmg-prod/images/dog-puppy-on-garden-royalty-free-image-1586966191.jpg?crop=0.752xw:1.00xh;0.175xw,0&resize=1200:*'\n",
    "# image = Image.open(requests.get(url,stream=True).raw)\n",
    "# image = Image.open(\"assets/demo_hipie.jpg\")\n",
    "image = Image.open(img_path)\n",
    "# run[\"i_min\"], run[\"i_max\"] = i_min, i_max = 200 * 7 + 105, 250 * 7 - 70\n",
    "# run[\"j_min\"], run[\"j_max\"] = j_min, j_max = 230 * 7 + 80 * 2, 280 * 7\n",
    "run[\"i_min\"], run[\"i_max\"] = i_min, i_max = 200 * 7 + 120, 250 * 7 - 50\n",
    "run[\"j_min\"], run[\"j_max\"] = j_min, j_max = 400 * 7 + 40, 440 * 7 - 40\n",
    "# run[\"i_min\"], run[\"i_max\"] = i_min, i_max = 0, image.height\n",
    "# run[\"j_min\"], run[\"j_max\"] = j_min, j_max = 0, image.width\n",
    "image = image.crop((j_min, i_min, j_max, i_max))\n",
    "run[\"rotation\"] = rotation = 90\n",
    "image = image.rotate(rotation, expand=1)\n",
    "image_np_d2 = convert_PIL_to_numpy(image, format=\"BGR\")\n",
    "run[\"undersampling\"] = undersampling = 1\n",
    "image_np_d2 = image_np_d2[::undersampling, ::undersampling]\n",
    "run[\"image_height\"] = image.height\n",
    "run[\"image_width\"] = image.width\n",
    "run[\"input_image\"].upload(neptune.types.File.as_image(image_np_d2[..., ::-1] / 255))\n",
    "plt.imshow(image_np_d2[..., ::-1])"
   ]
  },
  {
   "cell_type": "code",
   "execution_count": null,
   "id": "5dea5a8c",
   "metadata": {},
   "outputs": [],
   "source": [
    "from detectron2.projects.hipie.data.coco_dataset_mapper_uni import get_openseg_labels\n",
    "\n",
    "COCO_OPENSEG_LABELS = get_openseg_labels(\"coco_panoptic\")\n",
    "coco_labels = dict(\n",
    "    things_labels=[x[\"name\"] for x in get_openseg_labels(\"coco_panoptic\")[:80]],\n",
    "    stuff_labels=[x[\"name\"] for x in get_openseg_labels(\"coco_panoptic\")[80:]],\n",
    ")\n",
    "custom_labels = dict(\n",
    "    things_labels=[\"quartz\", \"fracture\"],\n",
    "    stuff_labels=[\"core\"],\n",
    ")\n",
    "\n",
    "if use_default_labels:\n",
    "    selected_labels = coco_labels\n",
    "else:\n",
    "    selected_labels = custom_labels\n",
    "run[\"labels\"] = {\n",
    "    key: neptune.types.StringSeries(value) for key, value in selected_labels.items()\n",
    "}"
   ]
  },
  {
   "cell_type": "code",
   "execution_count": null,
   "id": "c4d0a1a1",
   "metadata": {},
   "outputs": [],
   "source": [
    "mask = uninext_demo.foward_panoptic(\n",
    "    image_np_d2, do_part=True, instance_thres=instance_thres, **selected_labels\n",
    ")"
   ]
  },
  {
   "cell_type": "markdown",
   "id": "5f01878a",
   "metadata": {},
   "source": [
    "# Panoptic Seg"
   ]
  },
  {
   "cell_type": "code",
   "execution_count": null,
   "id": "8bc5181b",
   "metadata": {},
   "outputs": [],
   "source": [
    "visualizer = Visualizer(image_np_d2[..., ::-1], metadata=mask[\"meta_data\"])\n",
    "visualizer.draw_panoptic_seg(mask[\"panoptic_seg\"][0], mask[\"panoptic_seg\"][1])\n",
    "fig = visualizer.get_output().fig\n",
    "display(fig)\n",
    "run[\"panoptic_seg\"].upload(fig)"
   ]
  },
  {
   "cell_type": "markdown",
   "id": "d95d301e",
   "metadata": {},
   "source": [
    "#  Part Seg"
   ]
  },
  {
   "cell_type": "code",
   "execution_count": null,
   "id": "f1fee2b2",
   "metadata": {},
   "outputs": [],
   "source": [
    "visualizer = Visualizer(image_np_d2[..., ::-1])\n",
    "visualizer.overlay_instances(\n",
    "    masks=torch.stack(mask[\"output_refined\"][0]), labels=mask[\"output_refined\"][1]\n",
    ")\n",
    "fig = visualizer.get_output().fig\n",
    "display(fig)\n",
    "run[\"part_seg\"].upload(fig)"
   ]
  },
  {
   "cell_type": "markdown",
   "id": "fbe930ac",
   "metadata": {},
   "source": [
    "# Instance Seg"
   ]
  },
  {
   "cell_type": "code",
   "execution_count": null,
   "id": "60e8e248",
   "metadata": {},
   "outputs": [],
   "source": [
    "visualizer = Visualizer(image_np_d2[..., ::-1], metadata=mask[\"meta_data\"])\n",
    "visualizer.draw_instance_predictions(mask[\"instances\"])\n",
    "fig = visualizer.get_output().fig\n",
    "display(fig)\n",
    "run[\"instance_seg\"].upload(fig)"
   ]
  },
  {
   "cell_type": "code",
   "execution_count": null,
   "id": "ff5ad094",
   "metadata": {},
   "outputs": [],
   "source": [
    "ref_str = \"a core segment\"\n",
    "mask = uninext_demo.foward_reference(image_np_d2, ref_str, \"\")"
   ]
  },
  {
   "cell_type": "code",
   "execution_count": null,
   "id": "b6bd1a78",
   "metadata": {},
   "outputs": [],
   "source": [
    "vis = Visualizer(image_np_d2[..., ::-1])\n",
    "# vis.overlay_instances(masks=mask['instance_mask'])\n",
    "# vis.overlay_instances(masks=part_mask)\n",
    "vis.overlay_instances(masks=[mask[\"final_mask\"][0].numpy()], labels=[ref_str])\n",
    "vis.get_output().fig"
   ]
  },
  {
   "cell_type": "code",
   "execution_count": null,
   "id": "969d9c87",
   "metadata": {},
   "outputs": [],
   "source": [
    "run.stop()"
   ]
  }
 ],
 "metadata": {
  "kernelspec": {
   "display_name": "Python 3 (ipykernel)",
   "language": "python",
   "name": "python3"
  },
  "language_info": {
   "codemirror_mode": {
    "name": "ipython",
    "version": 3
   },
   "file_extension": ".py",
   "mimetype": "text/x-python",
   "name": "python",
   "nbconvert_exporter": "python",
   "pygments_lexer": "ipython3",
   "version": "3.7.16"
  }
 },
 "nbformat": 4,
 "nbformat_minor": 5
}
